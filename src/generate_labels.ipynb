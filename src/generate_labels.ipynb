{
 "cells": [
  {
   "cell_type": "code",
   "execution_count": null,
   "metadata": {},
   "outputs": [
    {
     "name": "stdout",
     "output_type": "stream",
     "text": [
      "Labels saved to D:\\Major Project\\data\\train\\labels.csv\n",
      "Labels saved to D:\\Major Project\\data\\test\\labels.csv\n",
      "Labels saved to D:\\Major Project\\data\\valid\\labels.csv\n"
     ]
    }
   ],
   "source": [
    "import os\n",
    "import pandas as pd\n",
    "\n",
    "def generate_labels_csv(input_dir, output_csv):\n",
    "    \"\"\"\n",
    "    Generate a labels.csv file mapping image filenames to class labels.\n",
    "\n",
    "    Args:\n",
    "        input_dir (str): Path to the dataset directory (e.g., train, test, valid).\n",
    "        output_csv (str): Path to save the labels.csv file.\n",
    "    \"\"\"\n",
    "    data = []\n",
    "    for root, dirs, files in os.walk(input_dir):\n",
    "        for file in files:\n",
    "            if file.endswith(\".jpg\") or file.endswith(\".png\"):\n",
    "                # Extract class label from folder name\n",
    "                label = os.path.basename(root)  # Folder name is the class label\n",
    "                data.append([file, label])\n",
    "                \n",
    "    output_dir = os.path.dirname(output_csv)\n",
    "    os.makedirs(output_dir, exist_ok=True)\n",
    "\n",
    "    # Create and save DataFrame\n",
    "    df = pd.DataFrame(data, columns=[\"filename\", \"class\"])\n",
    "    df.to_csv(output_csv, index=False)\n",
    "    print(f\"Labels saved to {output_csv}\")\n",
    "\n",
    "if __name__ == \"__main__\":\n",
    "    # Example usage for train, test, valid\n",
    "    base_input_dir = r\"D:\\Major Project\\data\\raw\"  # Path to raw dataset\n",
    "    base_output_dir = r\"D:\\Major Project\\data\"     # Path to save labels.csv\n",
    "\n",
    "    for folder in [\"train\", \"test\", \"valid\"]:\n",
    "        input_dir = os.path.join(base_input_dir, folder)\n",
    "        output_csv = os.path.join(base_output_dir, folder, \"labels.csv\")\n",
    "        generate_labels_csv(input_dir, output_csv)\n"
   ]
  }
 ],
 "metadata": {
  "kernelspec": {
   "display_name": "Python 3",
   "language": "python",
   "name": "python3"
  },
  "language_info": {
   "codemirror_mode": {
    "name": "ipython",
    "version": 3
   },
   "file_extension": ".py",
   "mimetype": "text/x-python",
   "name": "python",
   "nbconvert_exporter": "python",
   "pygments_lexer": "ipython3",
   "version": "3.11.9"
  }
 },
 "nbformat": 4,
 "nbformat_minor": 2
}
