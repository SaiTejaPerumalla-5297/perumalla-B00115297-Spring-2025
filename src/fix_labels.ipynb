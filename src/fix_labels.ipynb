{
 "cells": [
  {
   "cell_type": "code",
   "execution_count": 1,
   "metadata": {},
   "outputs": [
    {
     "name": "stdout",
     "output_type": "stream",
     "text": [
      "Labels saved to D:\\Major Project\\normalized\\train\\labels.csv\n",
      "Labels saved to D:\\Major Project\\normalized\\test\\labels.csv\n",
      "Labels saved to D:\\Major Project\\normalized\\valid\\labels.csv\n"
     ]
    }
   ],
   "source": [
    "import os\n",
    "import pandas as pd\n",
    "\n",
    "# Paths to raw dataset and normalized dataset\n",
    "base_raw_dir = r\"D:\\Major Project\\archive (1)\"  # Path to raw dataset\n",
    "base_normalized_dir = r\"D:\\Major Project\\normalized\"  # Where the new labels.csv will be saved\n",
    "\n",
    "# Function to process annotations from each dataset split\n",
    "def process_annotations(split):\n",
    "    annotation_path = os.path.join(base_raw_dir, split, \"annotations.csv\")  # Fixed path\n",
    "    output_labels_path = os.path.join(base_normalized_dir, split, \"labels.csv\")\n",
    "\n",
    "    # Check if annotations file exists\n",
    "    if not os.path.exists(annotation_path):\n",
    "        print(f\"Warning: {annotation_path} not found.\")\n",
    "        return\n",
    "\n",
    "    # Load annotations file\n",
    "    df = pd.read_csv(annotation_path)  # Change to `pd.read_json()` if JSON\n",
    "\n",
    "    # Ensure required columns exist\n",
    "    if \"filename\" in df.columns and \"class\" in df.columns:\n",
    "        os.makedirs(os.path.dirname(output_labels_path), exist_ok=True)\n",
    "        df.to_csv(output_labels_path, index=False)\n",
    "        print(f\"Labels saved to {output_labels_path}\")\n",
    "    else:\n",
    "        print(f\" Error: {annotation_path} does not contain 'filename' and 'class' columns.\")\n",
    "\n",
    "# Process annotations for train, test, and valid datasets\n",
    "for split in [\"train\", \"test\", \"valid\"]:\n",
    "    process_annotations(split)\n"
   ]
  }
 ],
 "metadata": {
  "kernelspec": {
   "display_name": "Python 3",
   "language": "python",
   "name": "python3"
  },
  "language_info": {
   "codemirror_mode": {
    "name": "ipython",
    "version": 3
   },
   "file_extension": ".py",
   "mimetype": "text/x-python",
   "name": "python",
   "nbconvert_exporter": "python",
   "pygments_lexer": "ipython3",
   "version": "3.11.9"
  }
 },
 "nbformat": 4,
 "nbformat_minor": 2
}
