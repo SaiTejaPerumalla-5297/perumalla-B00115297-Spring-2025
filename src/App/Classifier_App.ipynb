{
 "cells": [
  {
   "cell_type": "code",
   "execution_count": 3,
   "id": "4ce035dc",
   "metadata": {},
   "outputs": [
    {
     "name": "stderr",
     "output_type": "stream",
     "text": [
      "WARNING:absl:Compiled the loaded model, but the compiled metrics have yet to be built. `model.compile_metrics` will be empty until you train or evaluate the model.\n"
     ]
    },
    {
     "name": "stdout",
     "output_type": "stream",
     "text": [
      "\u001b[1m1/1\u001b[0m \u001b[32m━━━━━━━━━━━━━━━━━━━━\u001b[0m\u001b[37m\u001b[0m \u001b[1m0s\u001b[0m 96ms/step\n"
     ]
    },
    {
     "name": "stderr",
     "output_type": "stream",
     "text": [
      "WARNING:absl:Compiled the loaded model, but the compiled metrics have yet to be built. `model.compile_metrics` will be empty until you train or evaluate the model.\n"
     ]
    },
    {
     "name": "stdout",
     "output_type": "stream",
     "text": [
      "\u001b[1m1/1\u001b[0m \u001b[32m━━━━━━━━━━━━━━━━━━━━\u001b[0m\u001b[37m\u001b[0m \u001b[1m0s\u001b[0m 284ms/step\n"
     ]
    },
    {
     "name": "stderr",
     "output_type": "stream",
     "text": [
      "WARNING:absl:Compiled the loaded model, but the compiled metrics have yet to be built. `model.compile_metrics` will be empty until you train or evaluate the model.\n"
     ]
    },
    {
     "name": "stdout",
     "output_type": "stream",
     "text": [
      "\u001b[1m1/1\u001b[0m \u001b[32m━━━━━━━━━━━━━━━━━━━━\u001b[0m\u001b[37m\u001b[0m \u001b[1m0s\u001b[0m 278ms/step\n"
     ]
    },
    {
     "name": "stderr",
     "output_type": "stream",
     "text": [
      "WARNING:absl:Compiled the loaded model, but the compiled metrics have yet to be built. `model.compile_metrics` will be empty until you train or evaluate the model.\n"
     ]
    },
    {
     "name": "stdout",
     "output_type": "stream",
     "text": [
      "\u001b[1m1/1\u001b[0m \u001b[32m━━━━━━━━━━━━━━━━━━━━\u001b[0m\u001b[37m\u001b[0m \u001b[1m0s\u001b[0m 300ms/step\n"
     ]
    },
    {
     "name": "stderr",
     "output_type": "stream",
     "text": [
      "WARNING:absl:Compiled the loaded model, but the compiled metrics have yet to be built. `model.compile_metrics` will be empty until you train or evaluate the model.\n"
     ]
    },
    {
     "name": "stdout",
     "output_type": "stream",
     "text": [
      "\u001b[1m1/1\u001b[0m \u001b[32m━━━━━━━━━━━━━━━━━━━━\u001b[0m\u001b[37m\u001b[0m \u001b[1m0s\u001b[0m 287ms/step\n"
     ]
    }
   ],
   "source": [
    "import tkinter as tk\n",
    "from tkinter import filedialog, messagebox\n",
    "from PIL import Image, ImageTk\n",
    "import numpy as np\n",
    "from tensorflow.keras.models import load_model\n",
    "from tensorflow.keras.preprocessing.image import img_to_array, load_img\n",
    "\n",
    "# Define model paths and labels\n",
    "MODEL_PATHS = {\n",
    "    \"Custom CNN\": \"models/custom_cnn_teeth_health.h5\",\n",
    "    \"Custom CNN V2\": \"models/custom_cnn_teeth_health_v2.h5\",\n",
    "    \"Custom CNN V3\": \"models/custom_cnn_teeth_health_v3.h5\",\n",
    "    \"Custom CNN V4\": \"models/custom_cnn_teeth_health_v4.h5\",\n",
    "    \"Custom CNN V5\": \"models/cnn_teeth_health_v5.h5\",\n",
    "    \"VGG16 Fine-tuned\": \"models/vgg16_transfer_teeth_health_finetuned.h5\",\n",
    "    \"VGG16\" : \"models/vgg16_transfer_teeth_health.h5\"\n",
    "}\n",
    "\n",
    "CLASS_LABELS = ['cavity', 'fillings', 'impacted tooth', 'implant']\n",
    "\n",
    "# GUI Application\n",
    "class ModelPredictorApp:\n",
    "    def __init__(self, root):\n",
    "        self.root = root\n",
    "        self.root.title(\"Teeth Health Predictor\")\n",
    "        self.root.geometry(\"500x600\")\n",
    "        self.model = None\n",
    "        self.image_path = None\n",
    "\n",
    "        # Dropdown for model selection\n",
    "        self.model_var = tk.StringVar(value=list(MODEL_PATHS.keys())[0])\n",
    "        tk.Label(root, text=\"Select Model:\", font=('Arial', 12)).pack(pady=5)\n",
    "        self.model_dropdown = tk.OptionMenu(root, self.model_var, *MODEL_PATHS.keys())\n",
    "        self.model_dropdown.pack(pady=5)\n",
    "\n",
    "        # Upload Button\n",
    "        self.upload_btn = tk.Button(root, text=\"Upload Image\", command=self.upload_image, bg=\"lightblue\", font=('Arial', 12))\n",
    "        self.upload_btn.pack(pady=10)\n",
    "\n",
    "        # Image Preview Label\n",
    "        self.image_label = tk.Label(root)\n",
    "        self.image_label.pack(pady=10)\n",
    "\n",
    "        # Predict Button\n",
    "        self.predict_btn = tk.Button(root, text=\"Predict\", command=self.predict, bg=\"lightgreen\", font=('Arial', 12))\n",
    "        self.predict_btn.pack(pady=10)\n",
    "\n",
    "        # Prediction Result\n",
    "        self.result_label = tk.Label(root, text=\"\", font=('Arial', 14, 'bold'))\n",
    "        self.result_label.pack(pady=20)\n",
    "\n",
    "    def upload_image(self):\n",
    "        file_path = filedialog.askopenfilename(filetypes=[(\"Image Files\", \"*.jpg *.jpeg *.png\")])\n",
    "        if file_path:\n",
    "            self.image_path = file_path\n",
    "            image = Image.open(file_path).resize((224, 224))\n",
    "            tk_image = ImageTk.PhotoImage(image)\n",
    "            self.image_label.configure(image=tk_image)\n",
    "            self.image_label.image = tk_image\n",
    "            self.result_label.config(text=\"\")\n",
    "\n",
    "    def predict(self):\n",
    "        if not self.image_path:\n",
    "            messagebox.showwarning(\"No Image\", \"Please upload an image first.\")\n",
    "            return\n",
    "\n",
    "        # Load selected model\n",
    "        selected_model = self.model_var.get()\n",
    "        model_path = MODEL_PATHS[selected_model]\n",
    "        self.model = load_model(model_path)\n",
    "\n",
    "        # Preprocess image\n",
    "        img = load_img(self.image_path, target_size=(224, 224))\n",
    "        img_array = img_to_array(img) / 255.0\n",
    "        img_array = np.expand_dims(img_array, axis=0)\n",
    "\n",
    "        # Predict\n",
    "        predictions = self.model.predict(img_array)\n",
    "        predicted_label = CLASS_LABELS[np.argmax(predictions)]\n",
    "        confidence = np.max(predictions) * 100\n",
    "\n",
    "        self.result_label.config(\n",
    "            text=f\"Prediction: {predicted_label}\\nConfidence: {confidence:.2f}%\"\n",
    "        )\n",
    "\n",
    "# Launch app\n",
    "if __name__ == \"__main__\":\n",
    "    root = tk.Tk()\n",
    "    app = ModelPredictorApp(root)\n",
    "    root.mainloop()\n"
   ]
  }
 ],
 "metadata": {
  "kernelspec": {
   "display_name": "Python 3",
   "language": "python",
   "name": "python3"
  },
  "language_info": {
   "codemirror_mode": {
    "name": "ipython",
    "version": 3
   },
   "file_extension": ".py",
   "mimetype": "text/x-python",
   "name": "python",
   "nbconvert_exporter": "python",
   "pygments_lexer": "ipython3",
   "version": "3.11.9"
  }
 },
 "nbformat": 4,
 "nbformat_minor": 5
}
