{
 "cells": [
  {
   "cell_type": "code",
   "execution_count": 1,
   "metadata": {},
   "outputs": [
    {
     "name": "stdout",
     "output_type": "stream",
     "text": [
      "Augmenting cavity: Need 0 more images.\n",
      "cavity augmentation complete! 5000 images now available.\n",
      "Augmenting fillings: Need 1708 more images.\n",
      "fillings augmentation complete! 5000 images now available.\n",
      "Augmenting impacted tooth: Need 0 more images.\n",
      "impacted tooth augmentation complete! 5000 images now available.\n",
      "Augmenting implant: Need 0 more images.\n",
      "implant augmentation complete! 5000 images now available.\n",
      "Dataset augmentation completed!\n"
     ]
    }
   ],
   "source": [
    "import os\n",
    "import cv2\n",
    "import numpy as np\n",
    "import random\n",
    "from tensorflow.keras.preprocessing.image import ImageDataGenerator\n",
    "\n",
    "# Paths\n",
    "train_dir = r\"D:\\Major Project\\normalized\\train\"\n",
    "\n",
    "# Define target image count for each class\n",
    "target_counts = {\n",
    "    \"cavity\": 5000,\n",
    "    \"fillings\": 5000,\n",
    "    \"impacted tooth\": 5000,\n",
    "    \"implant\": 5000\n",
    "}\n",
    "\n",
    "# Augmentation settings\n",
    "datagen = ImageDataGenerator(\n",
    "    rotation_range=20,\n",
    "    width_shift_range=0.2,\n",
    "    height_shift_range=0.2,\n",
    "    shear_range=0.2,\n",
    "    zoom_range=0.2,\n",
    "    horizontal_flip=True,\n",
    "    fill_mode=\"nearest\"\n",
    ")\n",
    "\n",
    "# Function to augment images\n",
    "def augment_class_images(class_name, target_count):\n",
    "    class_path = os.path.join(train_dir, class_name)\n",
    "    images = [f for f in os.listdir(class_path) if f.endswith((\".jpg\", \".png\"))]\n",
    "    count = len(images)\n",
    "\n",
    "    if count == 0:\n",
    "        print(f\"Skipping {class_name}, no images found.\")\n",
    "        return\n",
    "\n",
    "    print(f\"Augmenting {class_name}: Need {target_count - count} more images.\")\n",
    "\n",
    "    while count < target_count:\n",
    "        img_name = random.choice(images)\n",
    "        img_path = os.path.join(class_path, img_name)\n",
    "        image = cv2.imread(img_path)\n",
    "\n",
    "        if image is None:\n",
    "            continue\n",
    "\n",
    "        # Apply augmentation\n",
    "        image = cv2.cvtColor(image, cv2.COLOR_BGR2RGB)\n",
    "        image = np.expand_dims(image, 0)\n",
    "        augmented_image = datagen.flow(image, batch_size=1)[0].astype(np.uint8)[0]\n",
    "\n",
    "        # Save new image\n",
    "        new_filename = f\"{count+1}_{img_name}\"\n",
    "        cv2.imwrite(os.path.join(class_path, new_filename), cv2.cvtColor(augmented_image, cv2.COLOR_RGB2BGR))\n",
    "        count += 1\n",
    "\n",
    "    print(f\"{class_name} augmentation complete! {count} images now available.\")\n",
    "\n",
    "# Apply augmentation for all classes\n",
    "for category, target in target_counts.items():\n",
    "    augment_class_images(category, target)\n",
    "\n",
    "print(\"Dataset augmentation completed!\")\n"
   ]
  }
 ],
 "metadata": {
  "kernelspec": {
   "display_name": "Python 3",
   "language": "python",
   "name": "python3"
  },
  "language_info": {
   "codemirror_mode": {
    "name": "ipython",
    "version": 3
   },
   "file_extension": ".py",
   "mimetype": "text/x-python",
   "name": "python",
   "nbconvert_exporter": "python",
   "pygments_lexer": "ipython3",
   "version": "3.11.9"
  }
 },
 "nbformat": 4,
 "nbformat_minor": 2
}
