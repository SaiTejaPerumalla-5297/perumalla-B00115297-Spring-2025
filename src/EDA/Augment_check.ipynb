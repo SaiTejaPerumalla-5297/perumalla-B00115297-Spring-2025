{
 "cells": [
  {
   "cell_type": "code",
   "execution_count": 2,
   "metadata": {},
   "outputs": [
    {
     "name": "stdout",
     "output_type": "stream",
     "text": [
      " cavity: 4718 images\n",
      " fillings: 490 images\n",
      " impacted tooth: 4957 images\n",
      " implant: 3848 images\n"
     ]
    }
   ],
   "source": [
    "import os\n",
    "\n",
    "train_dir = r\"D:\\Major Project\\normalized\\train\"\n",
    "\n",
    "for category in os.listdir(train_dir):\n",
    "    category_path = os.path.join(train_dir, category)\n",
    "    if os.path.isdir(category_path):\n",
    "        image_count = len([f for f in os.listdir(category_path) if f.endswith((\".jpg\", \".png\"))])\n",
    "        print(f\" {category}: {image_count} images\")\n"
   ]
  }
 ],
 "metadata": {
  "kernelspec": {
   "display_name": "Python 3",
   "language": "python",
   "name": "python3"
  },
  "language_info": {
   "codemirror_mode": {
    "name": "ipython",
    "version": 3
   },
   "file_extension": ".py",
   "mimetype": "text/x-python",
   "name": "python",
   "nbconvert_exporter": "python",
   "pygments_lexer": "ipython3",
   "version": "3.11.9"
  }
 },
 "nbformat": 4,
 "nbformat_minor": 2
}
