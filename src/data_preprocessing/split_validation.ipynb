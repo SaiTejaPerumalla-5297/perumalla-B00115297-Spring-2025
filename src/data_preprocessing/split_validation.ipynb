{
 "cells": [
  {
   "cell_type": "code",
   "execution_count": 4,
   "metadata": {},
   "outputs": [
    {
     "name": "stdout",
     "output_type": "stream",
     "text": [
      " Validation dataset successfully re-split!\n"
     ]
    }
   ],
   "source": [
    "import os\n",
    "import shutil\n",
    "import random\n",
    "\n",
    "# Paths\n",
    "train_dir = \"D:/Major Project/normalized/train\"\n",
    "valid_dir = \"D:/Major Project/normalized/valid\"\n",
    "\n",
    "# Set validation split (20% of training images will be moved to validation)\n",
    "VALID_SPLIT = 0.2\n",
    "\n",
    "# Loop through only folders (class names)\n",
    "for category in os.listdir(train_dir):\n",
    "    category_path = os.path.join(train_dir, category)\n",
    "    \n",
    "    # Ensure it's a directory (skip files)\n",
    "    if not os.path.isdir(category_path):\n",
    "        continue\n",
    "\n",
    "    valid_category_path = os.path.join(valid_dir, category)\n",
    "\n",
    "    # Create validation folder if it doesn’t exist\n",
    "    os.makedirs(valid_category_path, exist_ok=True)\n",
    "\n",
    "    # Get all images in this category\n",
    "    images = [f for f in os.listdir(category_path) if f.endswith(('.jpg', '.png'))]\n",
    "    num_valid = int(len(images) * VALID_SPLIT)  # 20% split\n",
    "\n",
    "    # Randomly select images for validation\n",
    "    valid_images = random.sample(images, num_valid)\n",
    "\n",
    "    for img in valid_images:\n",
    "        shutil.move(os.path.join(category_path, img), os.path.join(valid_category_path, img))\n",
    "\n",
    "print(\" Validation dataset successfully re-split!\")\n"
   ]
  }
 ],
 "metadata": {
  "kernelspec": {
   "display_name": "Python 3",
   "language": "python",
   "name": "python3"
  },
  "language_info": {
   "codemirror_mode": {
    "name": "ipython",
    "version": 3
   },
   "file_extension": ".py",
   "mimetype": "text/x-python",
   "name": "python",
   "nbconvert_exporter": "python",
   "pygments_lexer": "ipython3",
   "version": "3.11.9"
  }
 },
 "nbformat": 4,
 "nbformat_minor": 2
}
